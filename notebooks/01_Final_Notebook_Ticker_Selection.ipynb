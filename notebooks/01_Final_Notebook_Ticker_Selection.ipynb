{
 "cells": [
  {
   "cell_type": "markdown",
   "metadata": {
    "id": "7KbaDStNhsCU"
   },
   "source": [
    "#**Purpose**\n",
    "\n",
    "The purpose of this notebook is to provide the top ten tickers mentioned in the past 24 hours across five financial subreddits using the reddit api. There is a weighted calculation where the top ticker is then used to calculate both the news and social media sentiment over the last 365 days.\n"
   ]
  },
  {
   "cell_type": "markdown",
   "metadata": {
    "id": "30OAzlsgEf_n"
   },
   "source": [
    "# **Initial Setup**"
   ]
  },
  {
   "cell_type": "code",
   "execution_count": 1,
   "metadata": {
    "colab": {
     "base_uri": "https://localhost:8080/"
    },
    "id": "2Rr2e7k9EYrh",
    "outputId": "6ffe28ce-e6ba-4834-c53f-cd4323ba865a"
   },
   "outputs": [
    {
     "name": "stdout",
     "output_type": "stream",
     "text": [
      "Collecting praw\n",
      "  Downloading praw-7.8.1-py3-none-any.whl.metadata (9.4 kB)\n",
      "Collecting prawcore<3,>=2.4 (from praw)\n",
      "  Downloading prawcore-2.4.0-py3-none-any.whl.metadata (5.0 kB)\n",
      "Collecting update_checker>=0.18 (from praw)\n",
      "  Downloading update_checker-0.18.0-py3-none-any.whl.metadata (2.3 kB)\n",
      "Requirement already satisfied: websocket-client>=0.54.0 in c:\\users\\amcco\\anaconda3\\lib\\site-packages (from praw) (0.58.0)\n",
      "Requirement already satisfied: requests<3.0,>=2.6.0 in c:\\users\\amcco\\anaconda3\\lib\\site-packages (from prawcore<3,>=2.4->praw) (2.31.0)\n",
      "Requirement already satisfied: six in c:\\users\\amcco\\anaconda3\\lib\\site-packages (from websocket-client>=0.54.0->praw) (1.16.0)\n",
      "Requirement already satisfied: charset-normalizer<4,>=2 in c:\\users\\amcco\\anaconda3\\lib\\site-packages (from requests<3.0,>=2.6.0->prawcore<3,>=2.4->praw) (2.0.4)\n",
      "Requirement already satisfied: idna<4,>=2.5 in c:\\users\\amcco\\anaconda3\\lib\\site-packages (from requests<3.0,>=2.6.0->prawcore<3,>=2.4->praw) (3.4)\n",
      "Requirement already satisfied: urllib3<3,>=1.21.1 in c:\\users\\amcco\\anaconda3\\lib\\site-packages (from requests<3.0,>=2.6.0->prawcore<3,>=2.4->praw) (1.26.16)\n",
      "Requirement already satisfied: certifi>=2017.4.17 in c:\\users\\amcco\\anaconda3\\lib\\site-packages (from requests<3.0,>=2.6.0->prawcore<3,>=2.4->praw) (2024.2.2)\n",
      "Downloading praw-7.8.1-py3-none-any.whl (189 kB)\n",
      "   ---------------------------------------- 0.0/189.3 kB ? eta -:--:--\n",
      "   ------------------------------------ --- 174.1/189.3 kB 3.5 MB/s eta 0:00:01\n",
      "   ---------------------------------------- 189.3/189.3 kB 3.8 MB/s eta 0:00:00\n",
      "Downloading prawcore-2.4.0-py3-none-any.whl (17 kB)\n",
      "Downloading update_checker-0.18.0-py3-none-any.whl (7.0 kB)\n",
      "Installing collected packages: update_checker, prawcore, praw\n",
      "Successfully installed praw-7.8.1 prawcore-2.4.0 update_checker-0.18.0\n"
     ]
    },
    {
     "name": "stderr",
     "output_type": "stream",
     "text": [
      "\n",
      "[notice] A new release of pip is available: 24.0 -> 25.0.1\n",
      "[notice] To update, run: python.exe -m pip install --upgrade pip\n"
     ]
    }
   ],
   "source": [
    "!pip install praw\n"
   ]
  },
  {
   "cell_type": "code",
   "execution_count": 3,
   "metadata": {
    "id": "Sj9hyZUttWvB"
   },
   "outputs": [],
   "source": [
    "import pandas as pd\n",
    "from collections import Counter\n",
    "from datetime import datetime, timedelta\n",
    "import praw\n"
   ]
  },
  {
   "cell_type": "code",
   "execution_count": 4,
   "metadata": {
    "colab": {
     "base_uri": "https://localhost:8080/",
     "height": 356
    },
    "id": "3fmq67fzErbV",
    "outputId": "4cf25829-f486-4e60-83aa-b8ba549f3853"
   },
   "outputs": [
    {
     "name": "stdout",
     "output_type": "stream",
     "text": [
      "✅ Loaded 4804 NASDAQ companies.\n"
     ]
    }
   ],
   "source": [
    "def get_nasdaq_symbols():\n",
    "    file_path = r\"C:\\Users\\amcco\\Documents\\stock-dashboard\\app\\data\\nasdaqlisted.txt\"\n",
    "    df = pd.read_csv(file_path, delimiter='\\t')\n",
    "    symbols_df = df[['Symbol', 'Security Name']]\n",
    "    symbols_df.columns = ['Ticker', 'Company Name']\n",
    "    return symbols_df\n",
    "\n",
    "nasdaq_symbols = get_nasdaq_symbols()\n",
    "ticker_symbols = nasdaq_symbols['Ticker'].tolist()\n",
    "company_names = nasdaq_symbols['Company Name'].tolist()\n",
    "\n",
    "print(f\"✅ Loaded {len(nasdaq_symbols)} NASDAQ companies.\")"
   ]
  },
  {
   "cell_type": "markdown",
   "metadata": {
    "id": "Rkhls-oCE5-H"
   },
   "source": [
    "# **Connect to the Reddit API**"
   ]
  },
  {
   "cell_type": "code",
   "execution_count": 5,
   "metadata": {
    "id": "urGbyZrYE9XY"
   },
   "outputs": [],
   "source": [
    "reddit = praw.Reddit(\n",
    "    client_id=\"P3eK5XHjb3GSsQ2-xC4JtA\",\n",
    "    client_secret=\"_8X7bpAo3V1BZAGl_zKjBtHrbzfl4w\",\n",
    "    user_agent=\"Mehul Satish Lad\"\n",
    ")"
   ]
  },
  {
   "cell_type": "markdown",
   "metadata": {
    "id": "UoOz56r11T3s"
   },
   "source": [
    "# **Extract Tickers from Titles, Posts  & Comments**"
   ]
  },
  {
   "cell_type": "code",
   "execution_count": 7,
   "metadata": {
    "id": "pNcB7j3gM1Qj"
   },
   "outputs": [],
   "source": [
    "subreddits = [\"wallstreetbets\", \"stocks\", \"investing\", \"securityanalysis\", \"stockmarket\"]\n",
    "start_time = datetime.utcnow() - timedelta(days=1)\n",
    "\n",
    "def fetch_reddit_data():\n",
    "    all_data = []  \n",
    "\n",
    "    for subreddit in subreddits:\n",
    "        for submission in reddit.subreddit(subreddit).new(limit=500):\n",
    "            post_time = datetime.utcfromtimestamp(submission.created_utc)\n",
    "            if post_time >= start_time:\n",
    "\n",
    "                \n",
    "                all_data.append({\n",
    "                    \"created_utc\": post_time.strftime(\"%Y-%m-%d\"),\n",
    "                    \"subreddit\": subreddit,\n",
    "                    \"text\": submission.title[:500],  \n",
    "                    \"source\": \"Title\"\n",
    "                })\n",
    "\n",
    "                if submission.selftext:\n",
    "                    all_data.append({\n",
    "                        \"created_utc\": post_time.strftime(\"%Y-%m-%d\"),\n",
    "                        \"subreddit\": subreddit,\n",
    "                        \"text\": submission.selftext[:500],  \n",
    "                        \"source\": \"Post\"\n",
    "                    })\n",
    "\n",
    "                submission.comments.replace_more(limit=0)\n",
    "                sorted_comments = sorted(submission.comments.list(), key=lambda c: c.score, reverse=True)[:5]  # Keep only top 5 comments\n",
    "                for comment in sorted_comments:\n",
    "                    comment_time = datetime.utcfromtimestamp(comment.created_utc)\n",
    "                    if comment_time >= start_time:\n",
    "                        all_data.append({\n",
    "                            \"created_utc\": comment_time.strftime(\"%Y-%m-%d\"),\n",
    "                            \"subreddit\": subreddit,\n",
    "                            \"text\": comment.body[:500],  \n",
    "                            \"source\": \"Comment\"\n",
    "                        })\n",
    "\n",
    "    return pd.DataFrame(all_data)"
   ]
  },
  {
   "cell_type": "code",
   "execution_count": 8,
   "metadata": {
    "colab": {
     "base_uri": "https://localhost:8080/"
    },
    "id": "pGCPuqIEy_SQ",
    "outputId": "cb00c139-8faa-4c51-e81c-2acfbde186d8"
   },
   "outputs": [],
   "source": [
    "df = fetch_reddit_data()"
   ]
  },
  {
   "cell_type": "code",
   "execution_count": 9,
   "metadata": {
    "colab": {
     "base_uri": "https://localhost:8080/"
    },
    "id": "3Lrxpk7f1lvh",
    "outputId": "34002ad7-03af-4873-8c51-4f712687fac5"
   },
   "outputs": [
    {
     "name": "stdout",
     "output_type": "stream",
     "text": [
      "✅ Collected 1191 Reddit posts/comments.\n"
     ]
    }
   ],
   "source": [
    "if df.empty:\n",
    "    print(\"⚠ No new Reddit posts/comments found in the last 24 hours.\")\n",
    "else:\n",
    "    print(f\"✅ Collected {len(df)} Reddit posts/comments.\")"
   ]
  },
  {
   "cell_type": "code",
   "execution_count": 10,
   "metadata": {
    "colab": {
     "base_uri": "https://localhost:8080/"
    },
    "id": "vvfI9lQj4Yt7",
    "outputId": "9630f897-9191-4335-8792-d8dbae6451dd"
   },
   "outputs": [
    {
     "name": "stdout",
     "output_type": "stream",
     "text": [
      "  created_utc       subreddit  \\\n",
      "0  2025-04-22  wallstreetbets   \n",
      "1  2025-04-22  wallstreetbets   \n",
      "2  2025-04-22  wallstreetbets   \n",
      "3  2025-04-22  wallstreetbets   \n",
      "4  2025-04-22  wallstreetbets   \n",
      "\n",
      "                                                text   source  \n",
      "0  $MP Materials Locks in Major Contracts With Tw...    Title  \n",
      "1                            MP is about to print 💸💸     Post  \n",
      "2  Everyone’s Panicking On Tariffs — I’m Loading ...    Title  \n",
      "3  https://preview.redd.it/z014fm775awe1.png?widt...     Post  \n",
      "4                                            Shut up  Comment  \n"
     ]
    }
   ],
   "source": [
    "print(df.head())"
   ]
  },
  {
   "cell_type": "markdown",
   "metadata": {
    "id": "LgwPvuQAzF6g"
   },
   "source": [
    "# **Aggregate All Mentions**"
   ]
  },
  {
   "cell_type": "code",
   "execution_count": 11,
   "metadata": {
    "id": "54jMy5hcC5hY"
   },
   "outputs": [],
   "source": [
    "import re\n",
    "\n",
    "valid_tickers = set(nasdaq_symbols['Ticker'])  \n",
    "\n",
    "def extract_tickers(text):\n",
    "    potential_tickers = re.findall(r'\\b[A-Z]{1,5}\\b', str(text)) \n",
    "    return [ticker for ticker in potential_tickers if ticker in valid_tickers]\n",
    "\n",
    "df[\"extracted_tickers\"] = df[\"text\"].apply(extract_tickers)"
   ]
  },
  {
   "cell_type": "code",
   "execution_count": 12,
   "metadata": {
    "id": "jXNtGLW96IXm"
   },
   "outputs": [],
   "source": [
    "df[\"extracted_tickers\"] = df[\"extracted_tickers\"].apply(lambda x: x if isinstance(x, list) else [])\n",
    "\n",
    "df_exploded = df.explode(\"extracted_tickers\").rename(columns={\"extracted_tickers\": \"ticker_source\"}).dropna()\n",
    "\n",
    "ticker_counts = df_exploded.groupby([\"ticker_source\", \"source\"]).size().unstack(fill_value=0)\n",
    "\n",
    "ticker_counts[\"title_weighted\"] = ticker_counts.get(\"Title\", 0) * 3\n",
    "ticker_counts[\"post_weighted\"] = ticker_counts.get(\"Post\", 0) * 2\n",
    "ticker_counts[\"comment_weighted\"] = ticker_counts.get(\"Comment\", 0) * 1\n",
    "\n",
    "ticker_counts[\"weighted_score\"] = ticker_counts[\"title_weighted\"] + ticker_counts[\"post_weighted\"] + ticker_counts[\"comment_weighted\"]\n",
    "\n",
    "top_10_tickers = ticker_counts[[\"weighted_score\"]].sort_values(by=\"weighted_score\", ascending=False).head(10)"
   ]
  },
  {
   "cell_type": "code",
   "execution_count": 13,
   "metadata": {
    "colab": {
     "base_uri": "https://localhost:8080/"
    },
    "id": "jIJdxT8dJd6L",
    "outputId": "42197f54-a855-45fa-d514-8201e42b9edd"
   },
   "outputs": [
    {
     "name": "stdout",
     "output_type": "stream",
     "text": [
      "source         weighted_score\n",
      "ticker_source                \n",
      "TSLA                       46\n",
      "EU                         21\n",
      "NVDA                       20\n",
      "VXUS                       10\n",
      "OP                          8\n",
      "BBSI                        7\n",
      "GOOG                        7\n",
      "NFE                         6\n",
      "SQQQ                        6\n",
      "FTC                         6\n"
     ]
    }
   ],
   "source": [
    "print(top_10_tickers)"
   ]
  },
  {
   "cell_type": "code",
   "execution_count": 14,
   "metadata": {
    "id": "IDURRmlPSd0i"
   },
   "outputs": [],
   "source": [
    "top_10_tickers = top_10_tickers.reset_index()"
   ]
  },
  {
   "cell_type": "code",
   "execution_count": 15,
   "metadata": {
    "colab": {
     "base_uri": "https://localhost:8080/",
     "height": 363
    },
    "id": "PDfz4MmLQ9i3",
    "outputId": "b17550e1-9abc-4e48-cc2a-f0339ccdebc6"
   },
   "outputs": [
    {
     "data": {
      "text/html": [
       "<div>\n",
       "<style scoped>\n",
       "    .dataframe tbody tr th:only-of-type {\n",
       "        vertical-align: middle;\n",
       "    }\n",
       "\n",
       "    .dataframe tbody tr th {\n",
       "        vertical-align: top;\n",
       "    }\n",
       "\n",
       "    .dataframe thead th {\n",
       "        text-align: right;\n",
       "    }\n",
       "</style>\n",
       "<table border=\"1\" class=\"dataframe\">\n",
       "  <thead>\n",
       "    <tr style=\"text-align: right;\">\n",
       "      <th>source</th>\n",
       "      <th>ticker_source</th>\n",
       "      <th>weighted_score</th>\n",
       "    </tr>\n",
       "  </thead>\n",
       "  <tbody>\n",
       "    <tr>\n",
       "      <th>0</th>\n",
       "      <td>TSLA</td>\n",
       "      <td>46</td>\n",
       "    </tr>\n",
       "    <tr>\n",
       "      <th>1</th>\n",
       "      <td>EU</td>\n",
       "      <td>21</td>\n",
       "    </tr>\n",
       "    <tr>\n",
       "      <th>2</th>\n",
       "      <td>NVDA</td>\n",
       "      <td>20</td>\n",
       "    </tr>\n",
       "    <tr>\n",
       "      <th>3</th>\n",
       "      <td>VXUS</td>\n",
       "      <td>10</td>\n",
       "    </tr>\n",
       "    <tr>\n",
       "      <th>4</th>\n",
       "      <td>OP</td>\n",
       "      <td>8</td>\n",
       "    </tr>\n",
       "    <tr>\n",
       "      <th>5</th>\n",
       "      <td>BBSI</td>\n",
       "      <td>7</td>\n",
       "    </tr>\n",
       "    <tr>\n",
       "      <th>6</th>\n",
       "      <td>GOOG</td>\n",
       "      <td>7</td>\n",
       "    </tr>\n",
       "    <tr>\n",
       "      <th>7</th>\n",
       "      <td>NFE</td>\n",
       "      <td>6</td>\n",
       "    </tr>\n",
       "    <tr>\n",
       "      <th>8</th>\n",
       "      <td>SQQQ</td>\n",
       "      <td>6</td>\n",
       "    </tr>\n",
       "    <tr>\n",
       "      <th>9</th>\n",
       "      <td>FTC</td>\n",
       "      <td>6</td>\n",
       "    </tr>\n",
       "  </tbody>\n",
       "</table>\n",
       "</div>"
      ],
      "text/plain": [
       "source ticker_source  weighted_score\n",
       "0               TSLA              46\n",
       "1                 EU              21\n",
       "2               NVDA              20\n",
       "3               VXUS              10\n",
       "4                 OP               8\n",
       "5               BBSI               7\n",
       "6               GOOG               7\n",
       "7                NFE               6\n",
       "8               SQQQ               6\n",
       "9                FTC               6"
      ]
     },
     "metadata": {},
     "output_type": "display_data"
    }
   ],
   "source": [
    "display(top_10_tickers)"
   ]
  },
  {
   "cell_type": "code",
   "execution_count": 16,
   "metadata": {
    "colab": {
     "base_uri": "https://localhost:8080/"
    },
    "id": "0GrEoR3Ho-wT",
    "outputId": "0535b2c1-026d-4df3-977f-e35ab3648f01"
   },
   "outputs": [
    {
     "ename": "SyntaxError",
     "evalue": "(unicode error) 'unicodeescape' codec can't decode bytes in position 2-3: truncated \\UXXXXXXXX escape (3647724622.py, line 1)",
     "output_type": "error",
     "traceback": [
      "\u001b[1;36m  Cell \u001b[1;32mIn[16], line 1\u001b[1;36m\u001b[0m\n\u001b[1;33m    export_path = f\"C:\\Users\\amcco\\Documents\\stock-dashboard\\app\\data\\Top Ten Tickers.csv\"\u001b[0m\n\u001b[1;37m                                                                                          ^\u001b[0m\n\u001b[1;31mSyntaxError\u001b[0m\u001b[1;31m:\u001b[0m (unicode error) 'unicodeescape' codec can't decode bytes in position 2-3: truncated \\UXXXXXXXX escape\n"
     ]
    }
   ],
   "source": [
    "export_path = f\"C:\\Users\\amcco\\Documents\\stock-dashboard\\app\\data\\Top Ten Tickers.csv\"\n",
    "\n",
    "top_10_tickers.to_csv(export_path, index=False)\n",
    "\n",
    "print(f\"✅ Exported Top Ten Tickers to {export_path}\")"
   ]
  },
  {
   "cell_type": "code",
   "execution_count": null,
   "metadata": {
    "colab": {
     "base_uri": "https://localhost:8080/"
    },
    "id": "CJFE1Ia8QrVF",
    "outputId": "8b343ba9-461f-4494-cc15-26a9ebb62700"
   },
   "outputs": [
    {
     "name": "stdout",
     "output_type": "stream",
     "text": [
      "source ticker_source  weighted_score\n",
      "0                 EU             264\n",
      "1               TSLA              79\n",
      "2                QQQ              76\n",
      "3               NVDA              52\n",
      "4                DJT              45\n",
      "5                 OP              38\n",
      "6                 UK              38\n",
      "7               AAPL              35\n",
      "8               AMZN              29\n",
      "9                BND              21\n"
     ]
    }
   ],
   "source": [
    "print(top_10_tickers)"
   ]
  }
 ],
 "metadata": {
  "colab": {
   "provenance": []
  },
  "kernelspec": {
   "display_name": "Python 3 (ipykernel)",
   "language": "python",
   "name": "python3"
  },
  "language_info": {
   "codemirror_mode": {
    "name": "ipython",
    "version": 3
   },
   "file_extension": ".py",
   "mimetype": "text/x-python",
   "name": "python",
   "nbconvert_exporter": "python",
   "pygments_lexer": "ipython3",
   "version": "3.11.4"
  }
 },
 "nbformat": 4,
 "nbformat_minor": 1
}
